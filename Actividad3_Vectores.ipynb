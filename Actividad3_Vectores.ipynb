{
 "cells": [
  {
   "cell_type": "code",
   "execution_count": 3,
   "id": "1ad5fcbc",
   "metadata": {},
   "outputs": [
    {
     "name": "stdout",
     "output_type": "stream",
     "text": [
      "Collecting numpy\n",
      "  Downloading numpy-1.19.5-cp36-cp36m-win_amd64.whl (13.2 MB)\n",
      "Installing collected packages: numpy\n",
      "Successfully installed numpy-1.19.5\n"
     ]
    }
   ],
   "source": [
    "!pip install numpy"
   ]
  },
  {
   "cell_type": "code",
   "execution_count": 4,
   "id": "a39754c9",
   "metadata": {},
   "outputs": [],
   "source": [
    "import numpy as np"
   ]
  },
  {
   "cell_type": "code",
   "execution_count": 10,
   "id": "eefd689c",
   "metadata": {},
   "outputs": [],
   "source": [
    "myVector = []"
   ]
  },
  {
   "cell_type": "code",
   "execution_count": 11,
   "id": "50049230",
   "metadata": {},
   "outputs": [],
   "source": [
    "for i in range(3,26):\n",
    "    myVector.append(i)"
   ]
  },
  {
   "cell_type": "code",
   "execution_count": 12,
   "id": "15919353",
   "metadata": {},
   "outputs": [
    {
     "name": "stdout",
     "output_type": "stream",
     "text": [
      "[3, 4, 5, 6, 7, 8, 9, 10, 11, 12, 13, 14, 15, 16, 17, 18, 19, 20, 21, 22, 23, 24, 25]\n"
     ]
    }
   ],
   "source": [
    "print(myVector)"
   ]
  },
  {
   "cell_type": "code",
   "execution_count": 15,
   "id": "f7cf4b85",
   "metadata": {},
   "outputs": [],
   "source": [
    "myArray = np.array([5,3,4,2,1])"
   ]
  },
  {
   "cell_type": "code",
   "execution_count": 19,
   "id": "6d847678",
   "metadata": {},
   "outputs": [],
   "source": [
    "myArray.sort()"
   ]
  },
  {
   "cell_type": "code",
   "execution_count": 20,
   "id": "0eb25431",
   "metadata": {},
   "outputs": [
    {
     "name": "stdout",
     "output_type": "stream",
     "text": [
      "[1 2 3 4 5]\n"
     ]
    }
   ],
   "source": [
    "print(myArray)"
   ]
  },
  {
   "cell_type": "code",
   "execution_count": null,
   "id": "8186d0af",
   "metadata": {},
   "outputs": [],
   "source": []
  }
 ],
 "metadata": {
  "kernelspec": {
   "display_name": "Python 3",
   "language": "python",
   "name": "python3"
  },
  "language_info": {
   "codemirror_mode": {
    "name": "ipython",
    "version": 3
   },
   "file_extension": ".py",
   "mimetype": "text/x-python",
   "name": "python",
   "nbconvert_exporter": "python",
   "pygments_lexer": "ipython3",
   "version": "3.6.13"
  }
 },
 "nbformat": 4,
 "nbformat_minor": 5
}
